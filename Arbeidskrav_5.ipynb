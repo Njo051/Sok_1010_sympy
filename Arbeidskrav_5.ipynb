{
 "cells": [
  {
   "cell_type": "code",
   "execution_count": null,
   "id": "4a48b12d-967b-4e06-92bb-a3bb43456b87",
   "metadata": {},
   "outputs": [],
   "source": [
    "import sympy as sy \n",
    "import numpy as np\n",
    "#Modul 15\n",
    "# Oppgave 1.A  \n",
    "\n",
    "x = sy.Symbol('x')\n",
    "y = sy.Symbol('y')\n",
    "E1= sy.Eq(2*x+4*y,6)\n",
    "E2= sy.Eq(-2*x+y,4)\n",
    "sy.solve([E1,E2])"
   ]
  },
  {
   "cell_type": "code",
   "execution_count": null,
   "id": "3f7d1137-947b-4f82-a9f6-9b530d257c9e",
   "metadata": {},
   "outputs": [],
   "source": [
    "#Modul 15\n",
    "# Oppgave 1.B \n",
    "\n",
    "x = sy.Symbol('x')\n",
    "y = sy.Symbol('y')\n",
    "E1= sy.Eq(2*x-y,-1)\n",
    "E2= sy.Eq(x**2+x-y,1)\n",
    "sy.solve([E1,E2])"
   ]
  },
  {
   "cell_type": "code",
   "execution_count": null,
   "id": "cf93c516-da70-43fb-be67-2a9bc14a8a94",
   "metadata": {},
   "outputs": [],
   "source": [
    "#Modul 15\n",
    "# Oppgave 1.B \n",
    "#Setter prøve på svaret.\n",
    "def pro(x, y):\n",
    "    res1 = 2*x-y+1\n",
    "    res2 = x**2+x-y-1\n",
    "    if res1==0 & res2==0:\n",
    "        print(\"The answer is correct\")\n",
    "    else:\n",
    "        print(\"Try it again\")\n",
    "    return res1, res2\n",
    "pro(2,5)"
   ]
  },
  {
   "cell_type": "code",
   "execution_count": null,
   "id": "6affe75d-3e49-40ed-9a1b-c3c41ed00db3",
   "metadata": {},
   "outputs": [],
   "source": [
    "#Modul 15\n",
    "# Oppgave 2.A \n",
    "\n",
    "x = sy.Symbol('x')\n",
    "y = sy.Symbol('y')\n",
    "E1= sy.Eq(3*x-12,-6*y)\n",
    "E2= sy.Eq(4*x-8*y,16)\n",
    "sy.solve([E1,E2])"
   ]
  },
  {
   "cell_type": "code",
   "execution_count": null,
   "id": "7772e7e9-7bba-49c7-acec-bd8f5690635d",
   "metadata": {},
   "outputs": [],
   "source": [
    "#Modul 15\n",
    "# Oppgave 2B \n",
    "\n",
    "x = sy.Symbol('x')\n",
    "y = sy.Symbol('y')\n",
    "E1= sy.Eq(x**2+4*x-3,3*y)\n",
    "E2= sy.Eq(8-x,2*y)\n",
    "sy.solve([E1,E2])"
   ]
  },
  {
   "cell_type": "code",
   "execution_count": null,
   "id": "47557951-135a-4bb6-976d-205a60b51c7f",
   "metadata": {},
   "outputs": [],
   "source": [
    "#Modul 16\n",
    "# Oppgave 1.A \n",
    "\n",
    "x = sy.Symbol('x')\n",
    "y = sy.Symbol('y')\n",
    "E1= sy.Eq(4*x+2*y,12)\n",
    "E2= sy.Eq(6*x-2*y,8)\n",
    "sy.solve([E1,E2])"
   ]
  },
  {
   "cell_type": "code",
   "execution_count": null,
   "id": "7296401b-9c62-42db-83f2-081efb185deb",
   "metadata": {},
   "outputs": [],
   "source": [
    "#Modul 16\n",
    "# Oppgave 1.B\n",
    "\n",
    "x = sy.Symbol('x')\n",
    "y = sy.Symbol('y')\n",
    "E1= sy.Eq(2*x+y**2,25)\n",
    "E2= sy.Eq(x-2*y,10)\n",
    "sy.solve([E1,E2])"
   ]
  },
  {
   "cell_type": "code",
   "execution_count": null,
   "id": "8f3e653a-8620-4fe7-817f-cc1a84191646",
   "metadata": {},
   "outputs": [],
   "source": [
    "#Modul 16\n",
    "# Oppgave 2.A\n",
    "\n",
    "x = sy.Symbol('x')\n",
    "y = sy.Symbol('y')\n",
    "E1= sy.Eq(4*x-4*y,8)\n",
    "E2= sy.Eq(9*x-5*y,26)\n",
    "sy.solve([E1,E2])"
   ]
  },
  {
   "cell_type": "code",
   "execution_count": null,
   "id": "2db75047-4b9c-4b6c-972b-7764ab072dc6",
   "metadata": {},
   "outputs": [],
   "source": [
    "#Modul 16\n",
    "# Oppgave 2.B\n",
    "\n",
    "x = sy.Symbol('x')\n",
    "y = sy.Symbol('y')\n",
    "E1= sy.Eq(x+2*y**2,15)\n",
    "E2= sy.Eq(x**2-4*y**2,33)\n",
    "sy.solve([E1,E2])"
   ]
  },
  {
   "cell_type": "code",
   "execution_count": null,
   "id": "8a769ab2-6f78-43fb-b4b4-cea0f5907824",
   "metadata": {},
   "outputs": [],
   "source": [
    "#Modul 17\n",
    "# Oppgave 1.A\n",
    "\n",
    "x = sy.Symbol('x')\n",
    "y = sy.Symbol('y')\n",
    "E1= sy.Eq(x*y)\n",
    "E2= sy.Eq(x-2*y,10)\n",
    "sy.solve([E1,E2])"
   ]
  },
  {
   "cell_type": "code",
   "execution_count": null,
   "id": "d478a7bb-c341-41c4-99db-2939d28056ee",
   "metadata": {},
   "outputs": [],
   "source": [
    "#Modul 17\n",
    "# Oppgave 1.B\n",
    "\n",
    "x = sy.Symbol('x')\n",
    "y = sy.Symbol('y')\n",
    "E1= sy.Eq(x**2+y**2-100)\n",
    "E2= sy.Eq(x**2*y-36*y)\n",
    "sy.solve([E1,E2])"
   ]
  },
  {
   "cell_type": "code",
   "execution_count": null,
   "id": "8fbaeb98-80b4-4c93-ae44-d7980f3e917a",
   "metadata": {},
   "outputs": [],
   "source": [
    "#Modul 17\n",
    "# Oppgave 2.A\n",
    "\n",
    "x = sy.Symbol('x')\n",
    "y = sy.Symbol('y')\n",
    "E1= sy.Eq(x*y**2-49*x)\n",
    "E2= sy.Eq(x**2+y**2-58)\n",
    "sy.solve([E1,E2])"
   ]
  },
  {
   "cell_type": "code",
   "execution_count": null,
   "id": "a7c0988c-ce4f-4c2b-a705-6f3ae5cf2dd3",
   "metadata": {},
   "outputs": [],
   "source": [
    "#Modul 17\n",
    "# Oppgave 2.B\n",
    "\n",
    "x = sy.Symbol('x')\n",
    "y = sy.Symbol('y')\n",
    "E1= sy.Eq(x**2+y**2-5/4)\n",
    "E2= sy.Eq(2*x*y+y)\n",
    "sy.solve([E1,E2])"
   ]
  },
  {
   "cell_type": "code",
   "execution_count": null,
   "id": "71d887b6-1830-4fe3-9e6b-d26906fd13bd",
   "metadata": {},
   "outputs": [],
   "source": [
    "#Modul 19 \n",
    "#Oppgave 1.a\n",
    "sy.diff(x**5)"
   ]
  },
  {
   "cell_type": "code",
   "execution_count": null,
   "id": "92fffec9-7df7-41d4-b04a-0b439d219c34",
   "metadata": {},
   "outputs": [],
   "source": [
    "#Modul 19\n",
    "#Oppgave 1.b\n",
    "sy.diff(x+12)"
   ]
  },
  {
   "cell_type": "code",
   "execution_count": null,
   "id": "90c22fb0-7e7d-426b-8e8a-c5cc0cd77585",
   "metadata": {},
   "outputs": [],
   "source": [
    "#Modul 19\n",
    "#Oppgave 1.c\n",
    "sy.diff(x**3+4*x**2)"
   ]
  },
  {
   "cell_type": "code",
   "execution_count": null,
   "id": "13e4f831-0c80-4958-b131-9590efd92c91",
   "metadata": {},
   "outputs": [],
   "source": [
    "#Modul 19\n",
    "#Oppgave 1.d\n",
    "sy.diff(2*x**3+sy.sqrt(36))"
   ]
  },
  {
   "cell_type": "code",
   "execution_count": null,
   "id": "2996dc23-cc0e-4b67-b051-5c2b4e1a695e",
   "metadata": {},
   "outputs": [],
   "source": [
    "#Modul 19\n",
    "#Oppgave 1.e\n",
    "sy.diff(sy.sqrt(x)+5**2)"
   ]
  },
  {
   "cell_type": "code",
   "execution_count": null,
   "id": "fd0d3e15-e806-43dc-b02a-d276100e081c",
   "metadata": {},
   "outputs": [],
   "source": [
    "#Modul 19\n",
    "#Oppgave 1.f\n",
    "sy.diff(x**3+1/x)"
   ]
  },
  {
   "cell_type": "code",
   "execution_count": null,
   "id": "e6912d13-864e-404d-bdf3-cc1becfa7220",
   "metadata": {},
   "outputs": [],
   "source": [
    "#Modul 19\n",
    "#Oppgave 1.g\n",
    "sy.diff(x**3-x**2+1/4*x)"
   ]
  },
  {
   "cell_type": "code",
   "execution_count": null,
   "id": "ab280043-9c91-4a12-9c8f-30e7a4da9b6b",
   "metadata": {},
   "outputs": [],
   "source": [
    "#Modul 19\n",
    "#Oppgave 2.a\n",
    "sy.diff(1/x+6*x**6)"
   ]
  },
  {
   "cell_type": "code",
   "execution_count": null,
   "id": "943ada53-3e97-4471-9713-97abff2ecb45",
   "metadata": {},
   "outputs": [],
   "source": [
    "#Modul 19\n",
    "#Oppgave 2.b\n",
    "sy.diff(-x+1/2*x**3)"
   ]
  },
  {
   "cell_type": "code",
   "execution_count": null,
   "id": "80f61905-5b7c-4322-979b-ccb97ae3f2cf",
   "metadata": {},
   "outputs": [],
   "source": [
    "#Modul 19\n",
    "#Oppgave 2.c\n",
    "sy.diff(x*(x**2+2*x-3))"
   ]
  },
  {
   "cell_type": "code",
   "execution_count": null,
   "id": "bb9a77a8-750e-445e-93fd-daa27a076ba6",
   "metadata": {},
   "outputs": [],
   "source": [
    "#Modul 20\n",
    "#Oppgave 1.e\n",
    "sy.diff(x**4*x**5)\n"
   ]
  },
  {
   "cell_type": "code",
   "execution_count": null,
   "id": "18d6cbf7-9862-4286-aac0-426da976726a",
   "metadata": {},
   "outputs": [],
   "source": [
    "#Modul 20\n",
    "#Oppgave 1.f\n",
    "sy.diff(x*sy.sqrt(x))"
   ]
  },
  {
   "cell_type": "code",
   "execution_count": null,
   "id": "ff90a0d1-a13c-424c-bc71-d99d38e9111c",
   "metadata": {},
   "outputs": [],
   "source": [
    "#Modul 20\n",
    "#Oppgave 1.g\n",
    "sy.diff(2/x**3)"
   ]
  },
  {
   "cell_type": "code",
   "execution_count": null,
   "id": "67a9e422-1695-4bef-974d-f204e47685c0",
   "metadata": {},
   "outputs": [],
   "source": [
    "#Modul 20\n",
    "#Oppgave 1.h\n",
    "sy.diff(x**2-2/x**3)"
   ]
  },
  {
   "cell_type": "code",
   "execution_count": null,
   "id": "5767b794-4786-4c70-84b1-8a178155b6cc",
   "metadata": {},
   "outputs": [],
   "source": [
    "#Modul 20\n",
    "#Oppgave 1.i\n",
    "sy.diff(sy.sqrt(x)*x**6)"
   ]
  },
  {
   "cell_type": "code",
   "execution_count": null,
   "id": "f80c6ec3-e622-408d-94ea-97d2a8a43125",
   "metadata": {},
   "outputs": [],
   "source": [
    "#Modul 20\n",
    "#Oppgave 1.j\n",
    "sy.diff(x*(x**2+1))"
   ]
  },
  {
   "cell_type": "code",
   "execution_count": null,
   "id": "f5d8b149-9fca-4b74-9d3b-b2ccc9983b3d",
   "metadata": {},
   "outputs": [],
   "source": [
    "#Modul 20\n",
    "#Oppgave 1.k\n",
    "sy.diff(x**2+4/x**3-1)"
   ]
  },
  {
   "cell_type": "code",
   "execution_count": null,
   "id": "be32353b-ed65-411e-944e-1f8e5a5154e5",
   "metadata": {},
   "outputs": [],
   "source": [
    "#Modul 20\n",
    "#Oppgave 1.l\n",
    "sy.diff(x**2/x**2+2*x)"
   ]
  },
  {
   "cell_type": "code",
   "execution_count": null,
   "id": "ef7e0ffb-1323-404c-85ee-c90ac260033c",
   "metadata": {},
   "outputs": [],
   "source": [
    "#Modul 20\n",
    "#Oppgave 1.m\n",
    "sy.diff(x**2+4*x+2/x-2)"
   ]
  },
  {
   "cell_type": "code",
   "execution_count": null,
   "id": "f1a3df0f-5e03-4934-9adf-0c53412709d2",
   "metadata": {},
   "outputs": [],
   "source": [
    "#Modul 20\n",
    "#Oppgave 2.a\n",
    "sy.diff(x**3-2*x/x**2-1)"
   ]
  },
  {
   "cell_type": "code",
   "execution_count": null,
   "id": "73ff7216-9c53-417e-907d-4fb82a4334b7",
   "metadata": {},
   "outputs": [],
   "source": [
    "#Modul 20\n",
    "#Oppgave 2.b\n",
    "sy.diff((x**2+1)*(x**2-1))"
   ]
  },
  {
   "cell_type": "code",
   "execution_count": null,
   "id": "f095762f-7295-4130-b6f1-1e51330c8674",
   "metadata": {},
   "outputs": [],
   "source": [
    "#Modul 20\n",
    "#Oppgave 2.c\n",
    "sy.diff(3*x-4/x**3+7)"
   ]
  },
  {
   "cell_type": "code",
   "execution_count": null,
   "id": "de97e7d9-1c43-427b-adf9-065b66b886a6",
   "metadata": {},
   "outputs": [],
   "source": [
    "#Modul 21\n",
    "#Oppgave 1.a\n",
    "sy.diff((x**3+6*x)**5)"
   ]
  },
  {
   "cell_type": "code",
   "execution_count": null,
   "id": "6f1ce7fe-8755-4736-8327-4ec2db0a035b",
   "metadata": {},
   "outputs": [],
   "source": [
    "#Modul 21\n",
    "#Oppgave 1.b\n",
    "sy.diff(sy.sqrt(2*x**2+5))"
   ]
  },
  {
   "cell_type": "code",
   "execution_count": null,
   "id": "e747a558-9945-4462-a08b-f6cdd1e05652",
   "metadata": {},
   "outputs": [],
   "source": [
    "#Modul 21\n",
    "#Oppgave 1.c\n",
    "sy.diff(((2*x)/(x**2+3))**4)"
   ]
  },
  {
   "cell_type": "code",
   "execution_count": null,
   "id": "35e9124e-37e2-4ab7-9c0b-846a83ad4945",
   "metadata": {},
   "outputs": [],
   "source": [
    "#Modul 21\n",
    "#Oppgave 1.d\n",
    "sy.diff((2*x**4+9)**(3/2))"
   ]
  },
  {
   "cell_type": "code",
   "execution_count": null,
   "id": "c172334b-ab1c-4561-8115-1e24be0b0bc1",
   "metadata": {},
   "outputs": [],
   "source": [
    "#Modul 21\n",
    "#Oppgave 1.e\n",
    "sy.diff(1/sy.sqrt(1+x**2))"
   ]
  },
  {
   "cell_type": "code",
   "execution_count": null,
   "id": "b32d183f-92d5-45a1-8299-8eb95ad3c4e9",
   "metadata": {},
   "outputs": [],
   "source": [
    "#Modul 21\n",
    "#Oppgave 1.f\n",
    "sy.diff(x**2*(x**2+2*x)**3)"
   ]
  },
  {
   "cell_type": "code",
   "execution_count": null,
   "id": "9b5ced95-1e9b-4fc8-9bc4-6c8e40139dd1",
   "metadata": {},
   "outputs": [],
   "source": [
    "#Modul 21\n",
    "#Oppgave 1.g\n",
    "sy.diff(x**2*(sy.sqrt(x**2-2*x)))"
   ]
  },
  {
   "cell_type": "code",
   "execution_count": null,
   "id": "58624c47-83a4-404c-b19d-93a06b1adff3",
   "metadata": {},
   "outputs": [],
   "source": [
    "#Modul 21\n",
    "#Oppgave 1.h\n",
    "sy.diff(x**2/(x**2+x)**3)"
   ]
  },
  {
   "cell_type": "code",
   "execution_count": null,
   "id": "c1b75010-1aaa-45e7-9d10-1792f77db21e",
   "metadata": {},
   "outputs": [],
   "source": [
    "#Modul 21\n",
    "#Oppgave 1.i\n",
    "sy.diff((x**2+1)**2*(x**3+1)**3)"
   ]
  },
  {
   "cell_type": "code",
   "execution_count": null,
   "id": "2d1594a6-b0ac-48bb-ab73-df27960f3446",
   "metadata": {},
   "outputs": [],
   "source": [
    "#Modul 21\n",
    "#Oppgave 2.a\n",
    "sy.diff(sy.sqrt(3*x**2+2*x)**4)"
   ]
  },
  {
   "cell_type": "code",
   "execution_count": null,
   "id": "94ecedbe-359b-43b8-b286-7d03b9a1b235",
   "metadata": {},
   "outputs": [],
   "source": [
    "#Modul 21\n",
    "#Oppgave 2.b\n",
    "sy.diff((x**3+3)**5*(x**2+3)**4)"
   ]
  },
  {
   "cell_type": "code",
   "execution_count": null,
   "id": "551a45ca-2b10-4b0d-b85b-f1f93873d369",
   "metadata": {},
   "outputs": [],
   "source": [
    "#Modul 21\n",
    "#Oppgave 2.c\n",
    "sy.diff(sy.sqrt(x**2+1*x**2))"
   ]
  },
  {
   "cell_type": "code",
   "execution_count": null,
   "id": "196b96c3-7eba-4b20-b367-0461e46d2076",
   "metadata": {},
   "outputs": [],
   "source": [
    "#Modul 21\n",
    "#Oppgave 2.d\n",
    "sy.diff((2*x+3*x**2)**3/x**2)"
   ]
  },
  {
   "cell_type": "code",
   "execution_count": null,
   "id": "a312502a-3cc0-4d95-86a9-8d57e1c29af8",
   "metadata": {},
   "outputs": [],
   "source": [
    "#Modul 21\n",
    "#Oppgave 2.e\n",
    "sy.diff((x**4-5)**(1/3))"
   ]
  },
  {
   "cell_type": "code",
   "execution_count": null,
   "id": "41903eae-69db-4c63-adc2-48f51f5605d0",
   "metadata": {},
   "outputs": [],
   "source": [
    "#Modul 21\n",
    "#Oppgave 2.f\n",
    "sy.diff(x**3/sy.sqrt(x**4-1))"
   ]
  },
  {
   "cell_type": "code",
   "execution_count": null,
   "id": "8db8c31c-f642-4c89-a066-dd0579e83b36",
   "metadata": {},
   "outputs": [],
   "source": [
    "#Modul 22\n",
    "#Oppgave 1.a \n",
    "ln= sy.log\n",
    "sy.diff(ln(5*x))"
   ]
  },
  {
   "cell_type": "code",
   "execution_count": null,
   "id": "45544022-c2ff-48dc-8cb2-4b9446d81ec0",
   "metadata": {},
   "outputs": [],
   "source": [
    "#Modul 22\n",
    "#Oppgave 1.b\n",
    "from math import e \n",
    "\n",
    "sy.diff((e**(-2*x)))\n",
    "display(sy.exp(((e**(-2*x)))))"
   ]
  },
  {
   "cell_type": "code",
   "execution_count": null,
   "id": "0a8d1a75-9d76-499f-a0b5-599abbb80b85",
   "metadata": {},
   "outputs": [],
   "source": [
    "#Modul 22\n",
    "#Oppgave 1.c\n",
    "\n",
    "sy.diff(ln(12*x)-3)"
   ]
  },
  {
   "cell_type": "code",
   "execution_count": null,
   "id": "f98445e0-c7e9-4a64-86e6-65676be17d65",
   "metadata": {},
   "outputs": [],
   "source": [
    "#Modul 22\n",
    "#Oppgave 1.d\n",
    "\n",
    "sy.diff(2**x)"
   ]
  },
  {
   "cell_type": "code",
   "execution_count": null,
   "id": "b78fc6bf-8e62-4661-8d2d-1cf64fe6d76f",
   "metadata": {},
   "outputs": [],
   "source": [
    "#Modul 22\n",
    "#Oppgave 1.e\n",
    "sy.diff(e**(3*x+5))\n",
    "display(sy.exp((e**(3*x+5))))"
   ]
  },
  {
   "cell_type": "code",
   "execution_count": null,
   "id": "3ac36a0c-aaa4-46a7-9f4e-1283773c500b",
   "metadata": {},
   "outputs": [],
   "source": [
    "#Modul 22\n",
    "#Oppgave 1.f\n",
    "\n",
    "sy.diff(ln(x**5+1))\n"
   ]
  },
  {
   "cell_type": "code",
   "execution_count": null,
   "id": "0b437479-ddcc-4543-8acf-a8ec085cbb1c",
   "metadata": {},
   "outputs": [],
   "source": [
    "#Modul 22\n",
    "#Oppgave 1.g\n",
    "\n",
    "sy.diff(e**(4*x**2+8*x))\n",
    "display(sy.exp((e**(4*x**2+8*x))))"
   ]
  },
  {
   "cell_type": "code",
   "execution_count": null,
   "id": "63a4c818-bfd1-4aa4-8f8a-b8fe557a4300",
   "metadata": {},
   "outputs": [],
   "source": [
    "#Modul 22\n",
    "#Oppgave 1.h\n",
    "\n",
    "sy.diff(ln(1/x))"
   ]
  },
  {
   "cell_type": "code",
   "execution_count": null,
   "id": "279b2d17-8f6c-437b-9749-1f2035382c82",
   "metadata": {},
   "outputs": [],
   "source": [
    "#Modul 22\n",
    "#Oppgave 1.i\n",
    "\n",
    "sy.diff((6*ln(x))+(3*e**4*x))\n",
    "display(sy.exp(((6*ln(x))+(3*e**4*x))))"
   ]
  },
  {
   "cell_type": "code",
   "execution_count": null,
   "id": "b6b3e8d4-4ef4-4740-a340-34494352bf35",
   "metadata": {},
   "outputs": [],
   "source": [
    "#Modul 22\n",
    "#Oppgave 1.j\n",
    "\n",
    "sy.diff(x*e**-x)\n",
    "display(sy.exp((x*e**-x)))"
   ]
  },
  {
   "cell_type": "code",
   "execution_count": null,
   "id": "8ce8aa12-6b03-4c65-878d-1a78520f682e",
   "metadata": {},
   "outputs": [],
   "source": [
    "#Modul 22\n",
    "#Oppgave 1.k\n",
    "\n",
    "sy.diff((x**2)*ln(x*2+2))\n",
    "display(sy.exp(((x**2)*ln(x*2+2))))"
   ]
  },
  {
   "cell_type": "code",
   "execution_count": null,
   "id": "d53db0a9-d9e9-447d-a2e3-008cc2afafc3",
   "metadata": {},
   "outputs": [],
   "source": [
    "#Modul 22\n",
    "#Oppgave 2.a\n",
    "\n",
    "sy.diff((x**3)*(e**2*x))"
   ]
  },
  {
   "cell_type": "code",
   "execution_count": null,
   "id": "5dc4938a-8b5c-42e2-ae25-7236ef7490fe",
   "metadata": {},
   "outputs": [],
   "source": [
    "#Modul 22\n",
    "#Oppgave 2.b\n",
    "\n",
    "sy.diff(ln((x**2-1)/(x**2+1)))\n",
    "display(sy.log((ln(x**2-1)/(x**2+1))))"
   ]
  },
  {
   "cell_type": "code",
   "execution_count": null,
   "id": "86119b94-a2c5-41a9-9bda-ed1d23a9c8b2",
   "metadata": {},
   "outputs": [],
   "source": [
    "#Modul 22\n",
    "#Oppgave 2.c\n",
    "sy.diff((x**2)*ln(x**2+2))\n",
    "display(sy.log(((x**2)*ln(x**2+2))))"
   ]
  },
  {
   "cell_type": "code",
   "execution_count": null,
   "id": "86a1e4ee-fd27-4808-8d74-b40613364e08",
   "metadata": {},
   "outputs": [],
   "source": [
    "#Modul 22\n",
    "#Oppgave 2.d\n",
    "\n",
    "sy.diff((e**(-x)/(x**2+1)))\n",
    "display(sy.exp(((e**(-x)/(x**2+1)))))"
   ]
  }
 ],
 "metadata": {
  "kernelspec": {
   "display_name": "Python 3 (ipykernel)",
   "language": "python",
   "name": "python3"
  },
  "language_info": {
   "codemirror_mode": {
    "name": "ipython",
    "version": 3
   },
   "file_extension": ".py",
   "mimetype": "text/x-python",
   "name": "python",
   "nbconvert_exporter": "python",
   "pygments_lexer": "ipython3",
   "version": "3.9.5"
  }
 },
 "nbformat": 4,
 "nbformat_minor": 5
}
